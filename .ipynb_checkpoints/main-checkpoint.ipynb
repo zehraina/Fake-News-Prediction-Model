{
 "cells": [
  {
   "cell_type": "code",
   "execution_count": 1,
   "id": "898b1843",
   "metadata": {},
   "outputs": [],
   "source": [
    "import matplotlib.pyplot as plt\n",
    "import seaborn as sns\n",
    "import numpy as np\n",
    "import pandas as pd\n",
    "import nltk\n",
    "import re\n",
    "from wordcloud import wordcloud\n",
    "from keras.preprocessing.text import Tokenizer\n",
    "from keras.models import Sequential\n",
    "\n",
    "from keras_preprocessing.sequence import pad_sequences\n",
    "from keras.layers import Dense\n",
    "from keras.layers import Embedding\n",
    "from keras.layers import Conv1D\n",
    "from keras.layers import MaxPool1D\n",
    "from keras.layers import LSTM\n",
    "\n",
    "from sklearn.model_selection import train_test_split\n",
    "\n",
    "from sklearn.metrics import classification_report, accuracy_score\n",
    "\n",
    "\n",
    "\n",
    "\n",
    "\n"
   ]
  },
  {
   "cell_type": "code",
   "execution_count": 2,
   "id": "fdd62c02",
   "metadata": {},
   "outputs": [],
   "source": [
    "fake=pd.read_csv(\"fake.csv\")\n",
    "real=pd.read_csv(\"true.csv\")"
   ]
  },
  {
   "cell_type": "code",
   "execution_count": 3,
   "id": "f72a6077",
   "metadata": {},
   "outputs": [
    {
     "data": {
      "text/plain": [
       "Index(['title', 'text', 'subject', 'date'], dtype='object')"
      ]
     },
     "execution_count": 3,
     "metadata": {},
     "output_type": "execute_result"
    }
   ],
   "source": [
    "fake.columns"
   ]
  },
  {
   "cell_type": "code",
   "execution_count": 4,
   "id": "8eba1f36",
   "metadata": {},
   "outputs": [
    {
     "data": {
      "text/plain": [
       "News               9050\n",
       "politics           6841\n",
       "left-news          4459\n",
       "Government News    1570\n",
       "US_News             783\n",
       "Middle-east         778\n",
       "Name: subject, dtype: int64"
      ]
     },
     "execution_count": 4,
     "metadata": {},
     "output_type": "execute_result"
    }
   ],
   "source": [
    "fake['subject'].value_counts()"
   ]
  },
  {
   "cell_type": "code",
   "execution_count": 5,
   "id": "1ac76137",
   "metadata": {},
   "outputs": [
    {
     "data": {
      "text/plain": [
       "<Figure size 720x432 with 0 Axes>"
      ]
     },
     "execution_count": 5,
     "metadata": {},
     "output_type": "execute_result"
    },
    {
     "data": {
      "text/plain": [
       "<Figure size 720x432 with 0 Axes>"
      ]
     },
     "metadata": {},
     "output_type": "display_data"
    }
   ],
   "source": [
    "plt.figure(figsize=(10,6))"
   ]
  },
  {
   "cell_type": "code",
   "execution_count": 6,
   "id": "beb23b88",
   "metadata": {},
   "outputs": [],
   "source": [
    "#sns.countplot(x='subject',data=fake)"
   ]
  },
  {
   "cell_type": "code",
   "execution_count": 7,
   "id": "f4d90365",
   "metadata": {},
   "outputs": [],
   "source": [
    "text=' '.join(fake['text'].tolist())\n"
   ]
  },
  {
   "cell_type": "code",
   "execution_count": 8,
   "id": "b2288398",
   "metadata": {
    "scrolled": false
   },
   "outputs": [],
   "source": [
    "# wordlcoud=wordcloud().generate(text)\n",
    "# plt.imshow(wordcloud)"
   ]
  },
  {
   "cell_type": "code",
   "execution_count": 9,
   "id": "088b2252",
   "metadata": {},
   "outputs": [],
   "source": [
    "text=' '.join(real['text'].tolist())"
   ]
  },
  {
   "cell_type": "code",
   "execution_count": 10,
   "id": "6560e5c3",
   "metadata": {},
   "outputs": [],
   "source": [
    "#WASHINGTON(Reuters) is present in real news"
   ]
  },
  {
   "cell_type": "code",
   "execution_count": 11,
   "id": "c0137e79",
   "metadata": {},
   "outputs": [
    {
     "data": {
      "text/html": [
       "<div>\n",
       "<style scoped>\n",
       "    .dataframe tbody tr th:only-of-type {\n",
       "        vertical-align: middle;\n",
       "    }\n",
       "\n",
       "    .dataframe tbody tr th {\n",
       "        vertical-align: top;\n",
       "    }\n",
       "\n",
       "    .dataframe thead th {\n",
       "        text-align: right;\n",
       "    }\n",
       "</style>\n",
       "<table border=\"1\" class=\"dataframe\">\n",
       "  <thead>\n",
       "    <tr style=\"text-align: right;\">\n",
       "      <th></th>\n",
       "      <th>title</th>\n",
       "      <th>text</th>\n",
       "      <th>subject</th>\n",
       "      <th>date</th>\n",
       "    </tr>\n",
       "  </thead>\n",
       "  <tbody>\n",
       "    <tr>\n",
       "      <th>3765</th>\n",
       "      <td>Democrats in U.S. Senate try to slow Republica...</td>\n",
       "      <td>WASHINGTON (Reuters) - Democrats are striking ...</td>\n",
       "      <td>politicsNews</td>\n",
       "      <td>May 16, 2017</td>\n",
       "    </tr>\n",
       "    <tr>\n",
       "      <th>12477</th>\n",
       "      <td>Amnesty says EU is complicit in violations of ...</td>\n",
       "      <td>BRUSSELS (Reuters) - European governments are ...</td>\n",
       "      <td>worldnews</td>\n",
       "      <td>December 11, 2017</td>\n",
       "    </tr>\n",
       "    <tr>\n",
       "      <th>4805</th>\n",
       "      <td>U.S. Congressman asks DoD to investigate Trans...</td>\n",
       "      <td>(Reuters) - U.S. Congressman Ro Khanna asked t...</td>\n",
       "      <td>politicsNews</td>\n",
       "      <td>March 21, 2017</td>\n",
       "    </tr>\n",
       "    <tr>\n",
       "      <th>4160</th>\n",
       "      <td>U.S., Iran trade barbs over landmark 2015 nucl...</td>\n",
       "      <td>BEIRUT/WASHINGTON (Reuters) - Iran and the Uni...</td>\n",
       "      <td>politicsNews</td>\n",
       "      <td>April 20, 2017</td>\n",
       "    </tr>\n",
       "    <tr>\n",
       "      <th>5108</th>\n",
       "      <td>Japan PM and U.S. president discuss North Kore...</td>\n",
       "      <td>TOKYO (Reuters) - Japanese Prime Minister Shin...</td>\n",
       "      <td>politicsNews</td>\n",
       "      <td>March 6, 2017</td>\n",
       "    </tr>\n",
       "  </tbody>\n",
       "</table>\n",
       "</div>"
      ],
      "text/plain": [
       "                                                   title  \\\n",
       "3765   Democrats in U.S. Senate try to slow Republica...   \n",
       "12477  Amnesty says EU is complicit in violations of ...   \n",
       "4805   U.S. Congressman asks DoD to investigate Trans...   \n",
       "4160   U.S., Iran trade barbs over landmark 2015 nucl...   \n",
       "5108   Japan PM and U.S. president discuss North Kore...   \n",
       "\n",
       "                                                    text       subject  \\\n",
       "3765   WASHINGTON (Reuters) - Democrats are striking ...  politicsNews   \n",
       "12477  BRUSSELS (Reuters) - European governments are ...     worldnews   \n",
       "4805   (Reuters) - U.S. Congressman Ro Khanna asked t...  politicsNews   \n",
       "4160   BEIRUT/WASHINGTON (Reuters) - Iran and the Uni...  politicsNews   \n",
       "5108   TOKYO (Reuters) - Japanese Prime Minister Shin...  politicsNews   \n",
       "\n",
       "                     date  \n",
       "3765        May 16, 2017   \n",
       "12477  December 11, 2017   \n",
       "4805      March 21, 2017   \n",
       "4160      April 20, 2017   \n",
       "5108       March 6, 2017   "
      ]
     },
     "execution_count": 11,
     "metadata": {},
     "output_type": "execute_result"
    }
   ],
   "source": [
    "real.sample(5)"
   ]
  },
  {
   "cell_type": "code",
   "execution_count": 12,
   "id": "bc7a650a",
   "metadata": {},
   "outputs": [],
   "source": [
    "unknon_publishers=[]\n",
    "for index, row in enumerate(real.text.values):\n",
    "    try:\n",
    "        record=row.split('-', maxsplit=1)\n",
    "        assert(len(record[0])<120)\n",
    "        record[1]\n",
    "    except:\n",
    "        \n",
    "        unknon_publishers.append(index)\n",
    "    \n",
    "        "
   ]
  },
  {
   "cell_type": "code",
   "execution_count": 13,
   "id": "eb77e865",
   "metadata": {},
   "outputs": [
    {
     "data": {
      "text/plain": [
       "222"
      ]
     },
     "execution_count": 13,
     "metadata": {},
     "output_type": "execute_result"
    }
   ],
   "source": [
    "len(unknon_publishers)"
   ]
  },
  {
   "cell_type": "code",
   "execution_count": 14,
   "id": "cc6b31fc",
   "metadata": {},
   "outputs": [
    {
     "data": {
      "text/plain": [
       "7        The following statements were posted to the ve...\n",
       "8        The following statements were posted to the ve...\n",
       "12       The following statements were posted to the ve...\n",
       "13       The following statements were posted to the ve...\n",
       "14        (In Dec. 25 story, in second paragraph, corre...\n",
       "                               ...                        \n",
       "20135     (Story corrects to million from billion in pa...\n",
       "20500     (This Sept 8 story corrects headline, clarifi...\n",
       "20667     (Story refiles to add dropped word  not , in ...\n",
       "21246     (Story corrects third paragraph to show Mosul...\n",
       "21339     (Story corrects to fix spelling in paragraph ...\n",
       "Name: text, Length: 222, dtype: object"
      ]
     },
     "execution_count": 14,
     "metadata": {},
     "output_type": "execute_result"
    }
   ],
   "source": [
    "real.iloc[unknon_publishers].text"
   ]
  },
  {
   "cell_type": "code",
   "execution_count": 15,
   "id": "8ec682e2",
   "metadata": {},
   "outputs": [],
   "source": [
    "real=real.drop(8970, axis=0)"
   ]
  },
  {
   "cell_type": "code",
   "execution_count": 16,
   "id": "d6e445e1",
   "metadata": {},
   "outputs": [],
   "source": [
    "publisher=[]\n",
    "temp_text=[]\n",
    "for index, row in enumerate(real.text.values):\n",
    "    if index  in unknon_publishers:\n",
    "        temp_text.append(row)\n",
    "        publisher.append('unknown')\n",
    "    else:\n",
    "        record=row.split('-', maxsplit=1)\n",
    "        publisher.append(record[0].strip())\n",
    "        temp_text.append(record[1].strip())\n",
    "        "
   ]
  },
  {
   "cell_type": "code",
   "execution_count": 17,
   "id": "864d7fa9",
   "metadata": {},
   "outputs": [
    {
     "data": {
      "text/plain": [
       "(21416, 5)"
      ]
     },
     "execution_count": 17,
     "metadata": {},
     "output_type": "execute_result"
    }
   ],
   "source": [
    "real['publisher']=publisher\n",
    "real['text']=temp_text\n",
    "real.head()\n",
    "real.shape"
   ]
  },
  {
   "cell_type": "code",
   "execution_count": 18,
   "id": "0c0d9064",
   "metadata": {},
   "outputs": [],
   "source": [
    "empty_fake=[index for index,text in enumerate(fake.text.tolist()) if str(text).strip()==\"\" ]"
   ]
  },
  {
   "cell_type": "code",
   "execution_count": 19,
   "id": "dbad7ba2",
   "metadata": {},
   "outputs": [
    {
     "data": {
      "text/html": [
       "<div>\n",
       "<style scoped>\n",
       "    .dataframe tbody tr th:only-of-type {\n",
       "        vertical-align: middle;\n",
       "    }\n",
       "\n",
       "    .dataframe tbody tr th {\n",
       "        vertical-align: top;\n",
       "    }\n",
       "\n",
       "    .dataframe thead th {\n",
       "        text-align: right;\n",
       "    }\n",
       "</style>\n",
       "<table border=\"1\" class=\"dataframe\">\n",
       "  <thead>\n",
       "    <tr style=\"text-align: right;\">\n",
       "      <th></th>\n",
       "      <th>title</th>\n",
       "      <th>text</th>\n",
       "      <th>subject</th>\n",
       "      <th>date</th>\n",
       "    </tr>\n",
       "  </thead>\n",
       "  <tbody>\n",
       "    <tr>\n",
       "      <th>10923</th>\n",
       "      <td>TAKE OUR POLL: Who Do You Think President Trum...</td>\n",
       "      <td></td>\n",
       "      <td>politics</td>\n",
       "      <td>May 10, 2017</td>\n",
       "    </tr>\n",
       "    <tr>\n",
       "      <th>11041</th>\n",
       "      <td>Joe Scarborough BERATES Mika Brzezinski Over “...</td>\n",
       "      <td></td>\n",
       "      <td>politics</td>\n",
       "      <td>Apr 26, 2017</td>\n",
       "    </tr>\n",
       "    <tr>\n",
       "      <th>11190</th>\n",
       "      <td>WATCH TUCKER CARLSON Scorch Sanctuary City May...</td>\n",
       "      <td></td>\n",
       "      <td>politics</td>\n",
       "      <td>Apr 6, 2017</td>\n",
       "    </tr>\n",
       "    <tr>\n",
       "      <th>11225</th>\n",
       "      <td>MAYOR OF SANCTUARY CITY: Trump Trying To Make ...</td>\n",
       "      <td></td>\n",
       "      <td>politics</td>\n",
       "      <td>Apr 2, 2017</td>\n",
       "    </tr>\n",
       "    <tr>\n",
       "      <th>11236</th>\n",
       "      <td>SHOCKER: Public School Turns Computer Lab Into...</td>\n",
       "      <td></td>\n",
       "      <td>politics</td>\n",
       "      <td>Apr 1, 2017</td>\n",
       "    </tr>\n",
       "    <tr>\n",
       "      <th>...</th>\n",
       "      <td>...</td>\n",
       "      <td>...</td>\n",
       "      <td>...</td>\n",
       "      <td>...</td>\n",
       "    </tr>\n",
       "    <tr>\n",
       "      <th>21816</th>\n",
       "      <td>BALTIMORE BURNS: MARYLAND GOVERNOR BRINGS IN N...</td>\n",
       "      <td></td>\n",
       "      <td>left-news</td>\n",
       "      <td>Apr 27, 2015</td>\n",
       "    </tr>\n",
       "    <tr>\n",
       "      <th>21826</th>\n",
       "      <td>FULL VIDEO: THE BLOCKBUSTER INVESTIGATION INTO...</td>\n",
       "      <td></td>\n",
       "      <td>left-news</td>\n",
       "      <td>Apr 25, 2015</td>\n",
       "    </tr>\n",
       "    <tr>\n",
       "      <th>21827</th>\n",
       "      <td>(VIDEO) HILLARY CLINTON: RELIGIOUS BELIEFS MUS...</td>\n",
       "      <td></td>\n",
       "      <td>left-news</td>\n",
       "      <td>Apr 25, 2015</td>\n",
       "    </tr>\n",
       "    <tr>\n",
       "      <th>21857</th>\n",
       "      <td>(VIDEO)ICE PROTECTING OBAMA: WON’T RELEASE NAM...</td>\n",
       "      <td></td>\n",
       "      <td>left-news</td>\n",
       "      <td>Apr 14, 2015</td>\n",
       "    </tr>\n",
       "    <tr>\n",
       "      <th>21873</th>\n",
       "      <td>(VIDEO) HYSTERICAL SNL TAKE ON HILLARY’S ANNOU...</td>\n",
       "      <td></td>\n",
       "      <td>left-news</td>\n",
       "      <td>Apr 12, 2015</td>\n",
       "    </tr>\n",
       "  </tbody>\n",
       "</table>\n",
       "<p>630 rows × 4 columns</p>\n",
       "</div>"
      ],
      "text/plain": [
       "                                                   title text    subject  \\\n",
       "10923  TAKE OUR POLL: Who Do You Think President Trum...        politics   \n",
       "11041  Joe Scarborough BERATES Mika Brzezinski Over “...        politics   \n",
       "11190  WATCH TUCKER CARLSON Scorch Sanctuary City May...        politics   \n",
       "11225  MAYOR OF SANCTUARY CITY: Trump Trying To Make ...        politics   \n",
       "11236  SHOCKER: Public School Turns Computer Lab Into...        politics   \n",
       "...                                                  ...  ...        ...   \n",
       "21816  BALTIMORE BURNS: MARYLAND GOVERNOR BRINGS IN N...       left-news   \n",
       "21826  FULL VIDEO: THE BLOCKBUSTER INVESTIGATION INTO...       left-news   \n",
       "21827  (VIDEO) HILLARY CLINTON: RELIGIOUS BELIEFS MUS...       left-news   \n",
       "21857  (VIDEO)ICE PROTECTING OBAMA: WON’T RELEASE NAM...       left-news   \n",
       "21873  (VIDEO) HYSTERICAL SNL TAKE ON HILLARY’S ANNOU...       left-news   \n",
       "\n",
       "               date  \n",
       "10923  May 10, 2017  \n",
       "11041  Apr 26, 2017  \n",
       "11190   Apr 6, 2017  \n",
       "11225   Apr 2, 2017  \n",
       "11236   Apr 1, 2017  \n",
       "...             ...  \n",
       "21816  Apr 27, 2015  \n",
       "21826  Apr 25, 2015  \n",
       "21827  Apr 25, 2015  \n",
       "21857  Apr 14, 2015  \n",
       "21873  Apr 12, 2015  \n",
       "\n",
       "[630 rows x 4 columns]"
      ]
     },
     "execution_count": 19,
     "metadata": {},
     "output_type": "execute_result"
    }
   ],
   "source": [
    "fake.iloc[empty_fake]"
   ]
  },
  {
   "cell_type": "code",
   "execution_count": 20,
   "id": "bbd4122b",
   "metadata": {},
   "outputs": [],
   "source": [
    "#merge title and text together"
   ]
  },
  {
   "cell_type": "code",
   "execution_count": 21,
   "id": "3c1a5519",
   "metadata": {},
   "outputs": [],
   "source": [
    "real['text']=real['title']+\" \"+real['text']\n",
    "fake['text']=fake['title']+\" \"+fake['text']"
   ]
  },
  {
   "cell_type": "code",
   "execution_count": 22,
   "id": "9d01f924",
   "metadata": {},
   "outputs": [],
   "source": [
    "real['text']=real['text'].apply(lambda x: str(x).lower())\n",
    "fake['text']=fake['text'].apply(lambda x: str(x).lower())"
   ]
  },
  {
   "cell_type": "code",
   "execution_count": 23,
   "id": "a8673b45",
   "metadata": {},
   "outputs": [],
   "source": [
    "#preprocessing for text "
   ]
  },
  {
   "cell_type": "code",
   "execution_count": 24,
   "id": "a824019d",
   "metadata": {},
   "outputs": [],
   "source": [
    "real['class']=1\n",
    "fake['class']=0"
   ]
  },
  {
   "cell_type": "code",
   "execution_count": 25,
   "id": "920a37ba",
   "metadata": {},
   "outputs": [
    {
     "data": {
      "text/plain": [
       "Index(['title', 'text', 'subject', 'date', 'publisher', 'class'], dtype='object')"
      ]
     },
     "execution_count": 25,
     "metadata": {},
     "output_type": "execute_result"
    }
   ],
   "source": [
    "real.columns"
   ]
  },
  {
   "cell_type": "code",
   "execution_count": 26,
   "id": "f0a84446",
   "metadata": {},
   "outputs": [],
   "source": [
    "real=real[['text', 'class']]\n",
    "fake=fake[['text', 'class']]\n"
   ]
  },
  {
   "cell_type": "code",
   "execution_count": 27,
   "id": "3ca552f1",
   "metadata": {},
   "outputs": [
    {
     "data": {
      "text/plain": [
       "Index(['text', 'class'], dtype='object')"
      ]
     },
     "execution_count": 27,
     "metadata": {},
     "output_type": "execute_result"
    }
   ],
   "source": [
    "real.columns\n"
   ]
  },
  {
   "cell_type": "code",
   "execution_count": 28,
   "id": "03238b7a",
   "metadata": {},
   "outputs": [
    {
     "name": "stderr",
     "output_type": "stream",
     "text": [
      "C:\\Users\\inaze\\AppData\\Local\\Temp\\ipykernel_10044\\137480656.py:1: FutureWarning: The frame.append method is deprecated and will be removed from pandas in a future version. Use pandas.concat instead.\n",
      "  data=real.append(fake)\n"
     ]
    }
   ],
   "source": [
    "data=real.append(fake)"
   ]
  },
  {
   "cell_type": "code",
   "execution_count": 29,
   "id": "689f24fb",
   "metadata": {},
   "outputs": [],
   "source": [
    "data=pd.concat([real, fake], ignore_index=True)"
   ]
  },
  {
   "cell_type": "code",
   "execution_count": 30,
   "id": "f29e949e",
   "metadata": {},
   "outputs": [],
   "source": [
    "import re\n",
    "def clean(text):\n",
    "    text = str(text).lower()\n",
    "    text = re.sub('\\[.*?\\]', '', text)\n",
    "    text = re.sub('https?://\\S+|www\\.\\S+', '', text)\n",
    "    text = re.sub('<.*?>+', '', text)\n",
    "   \n",
    "    text = re.sub('\\n', '', text)\n",
    "   \n",
    "    return text\n",
    "data['text']=data['text'].apply(clean)"
   ]
  },
  {
   "cell_type": "code",
   "execution_count": null,
   "id": "e8f85682",
   "metadata": {},
   "outputs": [],
   "source": []
  },
  {
   "cell_type": "code",
   "execution_count": null,
   "id": "08f96e48",
   "metadata": {},
   "outputs": [],
   "source": []
  },
  {
   "cell_type": "code",
   "execution_count": 31,
   "id": "c2ea32b1",
   "metadata": {},
   "outputs": [
    {
     "data": {
      "text/html": [
       "<div>\n",
       "<style scoped>\n",
       "    .dataframe tbody tr th:only-of-type {\n",
       "        vertical-align: middle;\n",
       "    }\n",
       "\n",
       "    .dataframe tbody tr th {\n",
       "        vertical-align: top;\n",
       "    }\n",
       "\n",
       "    .dataframe thead th {\n",
       "        text-align: right;\n",
       "    }\n",
       "</style>\n",
       "<table border=\"1\" class=\"dataframe\">\n",
       "  <thead>\n",
       "    <tr style=\"text-align: right;\">\n",
       "      <th></th>\n",
       "      <th>text</th>\n",
       "      <th>class</th>\n",
       "    </tr>\n",
       "  </thead>\n",
       "  <tbody>\n",
       "    <tr>\n",
       "      <th>0</th>\n",
       "      <td>as u.s. budget fight looms, republicans flip t...</td>\n",
       "      <td>1</td>\n",
       "    </tr>\n",
       "    <tr>\n",
       "      <th>1</th>\n",
       "      <td>u.s. military to accept transgender recruits o...</td>\n",
       "      <td>1</td>\n",
       "    </tr>\n",
       "    <tr>\n",
       "      <th>2</th>\n",
       "      <td>senior u.s. republican senator: 'let mr. muell...</td>\n",
       "      <td>1</td>\n",
       "    </tr>\n",
       "    <tr>\n",
       "      <th>3</th>\n",
       "      <td>fbi russia probe helped by australian diplomat...</td>\n",
       "      <td>1</td>\n",
       "    </tr>\n",
       "    <tr>\n",
       "      <th>4</th>\n",
       "      <td>trump wants postal service to charge 'much mor...</td>\n",
       "      <td>1</td>\n",
       "    </tr>\n",
       "    <tr>\n",
       "      <th>...</th>\n",
       "      <td>...</td>\n",
       "      <td>...</td>\n",
       "    </tr>\n",
       "    <tr>\n",
       "      <th>2995</th>\n",
       "      <td>trump brand to exit toronto skyline after buyo...</td>\n",
       "      <td>1</td>\n",
       "    </tr>\n",
       "    <tr>\n",
       "      <th>2996</th>\n",
       "      <td>pence says trump-modi meetings 'historic and p...</td>\n",
       "      <td>1</td>\n",
       "    </tr>\n",
       "    <tr>\n",
       "      <th>2997</th>\n",
       "      <td>nafta hearings start with democratic lawmakers...</td>\n",
       "      <td>1</td>\n",
       "    </tr>\n",
       "    <tr>\n",
       "      <th>2998</th>\n",
       "      <td>supreme court's recent unity faces looming tes...</td>\n",
       "      <td>1</td>\n",
       "    </tr>\n",
       "    <tr>\n",
       "      <th>2999</th>\n",
       "      <td>senate postpones planned healthcare vote until...</td>\n",
       "      <td>1</td>\n",
       "    </tr>\n",
       "  </tbody>\n",
       "</table>\n",
       "<p>3000 rows × 2 columns</p>\n",
       "</div>"
      ],
      "text/plain": [
       "                                                   text  class\n",
       "0     as u.s. budget fight looms, republicans flip t...      1\n",
       "1     u.s. military to accept transgender recruits o...      1\n",
       "2     senior u.s. republican senator: 'let mr. muell...      1\n",
       "3     fbi russia probe helped by australian diplomat...      1\n",
       "4     trump wants postal service to charge 'much mor...      1\n",
       "...                                                 ...    ...\n",
       "2995  trump brand to exit toronto skyline after buyo...      1\n",
       "2996  pence says trump-modi meetings 'historic and p...      1\n",
       "2997  nafta hearings start with democratic lawmakers...      1\n",
       "2998  supreme court's recent unity faces looming tes...      1\n",
       "2999  senate postpones planned healthcare vote until...      1\n",
       "\n",
       "[3000 rows x 2 columns]"
      ]
     },
     "execution_count": 31,
     "metadata": {},
     "output_type": "execute_result"
    }
   ],
   "source": [
    "data.head(3000)"
   ]
  },
  {
   "cell_type": "code",
   "execution_count": 32,
   "id": "c5919756",
   "metadata": {},
   "outputs": [
    {
     "data": {
      "text/html": [
       "<div>\n",
       "<style scoped>\n",
       "    .dataframe tbody tr th:only-of-type {\n",
       "        vertical-align: middle;\n",
       "    }\n",
       "\n",
       "    .dataframe tbody tr th {\n",
       "        vertical-align: top;\n",
       "    }\n",
       "\n",
       "    .dataframe thead th {\n",
       "        text-align: right;\n",
       "    }\n",
       "</style>\n",
       "<table border=\"1\" class=\"dataframe\">\n",
       "  <thead>\n",
       "    <tr style=\"text-align: right;\">\n",
       "      <th></th>\n",
       "      <th>text</th>\n",
       "      <th>class</th>\n",
       "    </tr>\n",
       "  </thead>\n",
       "  <tbody>\n",
       "    <tr>\n",
       "      <th>29168</th>\n",
       "      <td>white nationalist radio: trump gave us a pres...</td>\n",
       "      <td>0</td>\n",
       "    </tr>\n",
       "  </tbody>\n",
       "</table>\n",
       "</div>"
      ],
      "text/plain": [
       "                                                    text  class\n",
       "29168   white nationalist radio: trump gave us a pres...      0"
      ]
     },
     "execution_count": 32,
     "metadata": {},
     "output_type": "execute_result"
    }
   ],
   "source": [
    "data.sample()"
   ]
  },
  {
   "cell_type": "code",
   "execution_count": 33,
   "id": "94eea7f1",
   "metadata": {},
   "outputs": [
    {
     "data": {
      "text/plain": [
       "class\n",
       "0    23481\n",
       "1    21416\n",
       "dtype: int64"
      ]
     },
     "execution_count": 33,
     "metadata": {},
     "output_type": "execute_result"
    }
   ],
   "source": [
    "data.value_counts('class')"
   ]
  },
  {
   "cell_type": "code",
   "execution_count": 34,
   "id": "59dc244d",
   "metadata": {},
   "outputs": [],
   "source": [
    "# data=data.replace('!','',regex=True)\n",
    "# data=data.replace('@','',regex=True)\n",
    "# data=data.replace('-','',regex=True)\n",
    "# data=data.replace('.','',regex=True)\n",
    "# data=data.replace('?','',regex=True)\n",
    "# data=data.replace('#','',regex=True)\n",
    "# data=data.replace('\\\\','',regex=True)\n",
    "\n"
   ]
  },
  {
   "cell_type": "code",
   "execution_count": 35,
   "id": "77036175",
   "metadata": {},
   "outputs": [
    {
     "data": {
      "text/html": [
       "<div>\n",
       "<style scoped>\n",
       "    .dataframe tbody tr th:only-of-type {\n",
       "        vertical-align: middle;\n",
       "    }\n",
       "\n",
       "    .dataframe tbody tr th {\n",
       "        vertical-align: top;\n",
       "    }\n",
       "\n",
       "    .dataframe thead th {\n",
       "        text-align: right;\n",
       "    }\n",
       "</style>\n",
       "<table border=\"1\" class=\"dataframe\">\n",
       "  <thead>\n",
       "    <tr style=\"text-align: right;\">\n",
       "      <th></th>\n",
       "      <th>text</th>\n",
       "      <th>class</th>\n",
       "    </tr>\n",
       "  </thead>\n",
       "  <tbody>\n",
       "    <tr>\n",
       "      <th>0</th>\n",
       "      <td>as u.s. budget fight looms, republicans flip t...</td>\n",
       "      <td>1</td>\n",
       "    </tr>\n",
       "    <tr>\n",
       "      <th>1</th>\n",
       "      <td>u.s. military to accept transgender recruits o...</td>\n",
       "      <td>1</td>\n",
       "    </tr>\n",
       "    <tr>\n",
       "      <th>2</th>\n",
       "      <td>senior u.s. republican senator: 'let mr. muell...</td>\n",
       "      <td>1</td>\n",
       "    </tr>\n",
       "    <tr>\n",
       "      <th>3</th>\n",
       "      <td>fbi russia probe helped by australian diplomat...</td>\n",
       "      <td>1</td>\n",
       "    </tr>\n",
       "    <tr>\n",
       "      <th>4</th>\n",
       "      <td>trump wants postal service to charge 'much mor...</td>\n",
       "      <td>1</td>\n",
       "    </tr>\n",
       "  </tbody>\n",
       "</table>\n",
       "</div>"
      ],
      "text/plain": [
       "                                                text  class\n",
       "0  as u.s. budget fight looms, republicans flip t...      1\n",
       "1  u.s. military to accept transgender recruits o...      1\n",
       "2  senior u.s. republican senator: 'let mr. muell...      1\n",
       "3  fbi russia probe helped by australian diplomat...      1\n",
       "4  trump wants postal service to charge 'much mor...      1"
      ]
     },
     "execution_count": 35,
     "metadata": {},
     "output_type": "execute_result"
    }
   ],
   "source": [
    "data.head()"
   ]
  },
  {
   "cell_type": "code",
   "execution_count": null,
   "id": "6d181eab",
   "metadata": {},
   "outputs": [],
   "source": [
    "import gensim\n",
    "DIM=100\n",
    "y=data['class'].values\n",
    "x=[d.split() for d in data['text'].tolist()]\n",
    "w2v_model=gensim.models.Word2Vec(sentences=x, vector_size=DIM, window=10, min_count=1)"
   ]
  },
  {
   "cell_type": "code",
   "execution_count": null,
   "id": "5b3b0517",
   "metadata": {},
   "outputs": [],
   "source": [
    "len(w2v_model.wv)"
   ]
  },
  {
   "cell_type": "code",
   "execution_count": null,
   "id": "72c2d4ba",
   "metadata": {},
   "outputs": [],
   "source": [
    "vec=0"
   ]
  },
  {
   "cell_type": "code",
   "execution_count": null,
   "id": "a433f13b",
   "metadata": {},
   "outputs": [],
   "source": [
    " vec += w2v_model.wv['love'].reshape((1, DIM))"
   ]
  },
  {
   "cell_type": "raw",
   "id": "33152ff7",
   "metadata": {},
   "source": [
    "vec"
   ]
  },
  {
   "cell_type": "code",
   "execution_count": null,
   "id": "b45fe9b0",
   "metadata": {},
   "outputs": [],
   "source": [
    "w2v_model.wv.most_similar('india')"
   ]
  },
  {
   "cell_type": "code",
   "execution_count": null,
   "id": "15f4e45d",
   "metadata": {},
   "outputs": [],
   "source": [
    "tokenizer=Tokenizer()\n",
    "tokenizer.fit_on_texts(x)"
   ]
  },
  {
   "cell_type": "code",
   "execution_count": null,
   "id": "a4b7f366",
   "metadata": {},
   "outputs": [],
   "source": [
    "x=tokenizer.texts_to_sequences(x)"
   ]
  },
  {
   "cell_type": "code",
   "execution_count": null,
   "id": "86d58d0e",
   "metadata": {},
   "outputs": [],
   "source": [
    "t=tokenizer.word_index"
   ]
  },
  {
   "cell_type": "code",
   "execution_count": null,
   "id": "d8080b34",
   "metadata": {},
   "outputs": [],
   "source": [
    "#plt.hist([len(l) for l in x], bins=700)\n",
    "#plt.show() to find words in each row"
   ]
  },
  {
   "cell_type": "code",
   "execution_count": null,
   "id": "560af8b3",
   "metadata": {},
   "outputs": [],
   "source": [
    "nos=np.array([len(l) for l in x])\n",
    "len(nos[nos>1000])"
   ]
  },
  {
   "cell_type": "code",
   "execution_count": null,
   "id": "377f42d5",
   "metadata": {},
   "outputs": [],
   "source": [
    "maxlen=1000\n",
    "l=pad_sequences(x, maxlen=maxlen)\n",
    "len(l[0])"
   ]
  },
  {
   "cell_type": "code",
   "execution_count": null,
   "id": "3035795d",
   "metadata": {},
   "outputs": [],
   "source": [
    "vocab_size=len(tokenizer.word_index)+1\n",
    "vocab=tokenizer.word_index\n",
    "def get_weight_matrix(model):\n",
    "    weight_matrix=np.zeros((vocab_size, DIM))\n",
    "    for word, i in vocab.items():\n",
    "        weight_matrix[i]=model.wv[word]\n",
    "    return weight_matrix"
   ]
  },
  {
   "cell_type": "code",
   "execution_count": null,
   "id": "80d1b1af",
   "metadata": {},
   "outputs": [],
   "source": [
    "e=get_weight_matrix(w2v_model)"
   ]
  },
  {
   "cell_type": "markdown",
   "id": "c1204693",
   "metadata": {},
   "source": [
    "DIM"
   ]
  },
  {
   "cell_type": "code",
   "execution_count": null,
   "id": "8d9020f3",
   "metadata": {},
   "outputs": [],
   "source": [
    "DIM"
   ]
  },
  {
   "cell_type": "code",
   "execution_count": null,
   "id": "f6e178b6",
   "metadata": {},
   "outputs": [],
   "source": [
    "e.shape"
   ]
  },
  {
   "cell_type": "code",
   "execution_count": null,
   "id": "4ad7e829",
   "metadata": {},
   "outputs": [],
   "source": [
    "model=Sequential()\n",
    "model.add(Embedding(vocab_size, output_dim=DIM, weights=[e], input_length=maxlen, trainable=False))\n",
    "model.add(LSTM(units=128))\n",
    "model.add(Dense(1, activation='sigmoid'))\n",
    "model.compile(optimizer='adam', loss='binary_crossentropy', metrics=['acc'])"
   ]
  },
  {
   "cell_type": "code",
   "execution_count": null,
   "id": "c206c336",
   "metadata": {},
   "outputs": [],
   "source": [
    "model.summary()"
   ]
  },
  {
   "cell_type": "code",
   "execution_count": 56,
   "id": "fa5401b7",
   "metadata": {},
   "outputs": [
    {
     "ename": "KeyboardInterrupt",
     "evalue": "",
     "output_type": "error",
     "traceback": [
      "\u001b[1;31m---------------------------------------------------------------------------\u001b[0m",
      "\u001b[1;31mKeyboardInterrupt\u001b[0m                         Traceback (most recent call last)",
      "Input \u001b[1;32mIn [56]\u001b[0m, in \u001b[0;36m<cell line: 2>\u001b[1;34m()\u001b[0m\n\u001b[0;32m      1\u001b[0m x_train, x_test, y_test, y_train\u001b[38;5;241m=\u001b[39mtrain_test_split(x, y)\n\u001b[1;32m----> 2\u001b[0m \u001b[43mmodel\u001b[49m\u001b[38;5;241;43m.\u001b[39;49m\u001b[43mfit\u001b[49m\u001b[43m(\u001b[49m\u001b[43mx_train\u001b[49m\u001b[43m,\u001b[49m\u001b[43m \u001b[49m\u001b[43my_train\u001b[49m\u001b[43m,\u001b[49m\u001b[43m \u001b[49m\u001b[43mvalidation_split\u001b[49m\u001b[38;5;241;43m=\u001b[39;49m\u001b[38;5;241;43m0.3\u001b[39;49m\u001b[43m,\u001b[49m\u001b[43m \u001b[49m\u001b[43mepochs\u001b[49m\u001b[38;5;241;43m=\u001b[39;49m\u001b[38;5;241;43m6\u001b[39;49m\u001b[43m)\u001b[49m\n",
      "File \u001b[1;32m~\\AppData\\Local\\Programs\\Python\\Python310\\lib\\site-packages\\keras\\utils\\traceback_utils.py:64\u001b[0m, in \u001b[0;36mfilter_traceback.<locals>.error_handler\u001b[1;34m(*args, **kwargs)\u001b[0m\n\u001b[0;32m     62\u001b[0m filtered_tb \u001b[38;5;241m=\u001b[39m \u001b[38;5;28;01mNone\u001b[39;00m\n\u001b[0;32m     63\u001b[0m \u001b[38;5;28;01mtry\u001b[39;00m:\n\u001b[1;32m---> 64\u001b[0m   \u001b[38;5;28;01mreturn\u001b[39;00m fn(\u001b[38;5;241m*\u001b[39margs, \u001b[38;5;241m*\u001b[39m\u001b[38;5;241m*\u001b[39mkwargs)\n\u001b[0;32m     65\u001b[0m \u001b[38;5;28;01mexcept\u001b[39;00m \u001b[38;5;167;01mException\u001b[39;00m \u001b[38;5;28;01mas\u001b[39;00m e:  \u001b[38;5;66;03m# pylint: disable=broad-except\u001b[39;00m\n\u001b[0;32m     66\u001b[0m   filtered_tb \u001b[38;5;241m=\u001b[39m _process_traceback_frames(e\u001b[38;5;241m.\u001b[39m__traceback__)\n",
      "File \u001b[1;32m~\\AppData\\Local\\Programs\\Python\\Python310\\lib\\site-packages\\keras\\engine\\training.py:1344\u001b[0m, in \u001b[0;36mModel.fit\u001b[1;34m(self, x, y, batch_size, epochs, verbose, callbacks, validation_split, validation_data, shuffle, class_weight, sample_weight, initial_epoch, steps_per_epoch, validation_steps, validation_batch_size, validation_freq, max_queue_size, workers, use_multiprocessing)\u001b[0m\n\u001b[0;32m   1338\u001b[0m verbose \u001b[38;5;241m=\u001b[39m _get_verbosity(verbose, \u001b[38;5;28mself\u001b[39m\u001b[38;5;241m.\u001b[39mdistribute_strategy)\n\u001b[0;32m   1340\u001b[0m \u001b[38;5;28;01mif\u001b[39;00m validation_split \u001b[38;5;129;01mand\u001b[39;00m validation_data \u001b[38;5;129;01mis\u001b[39;00m \u001b[38;5;28;01mNone\u001b[39;00m:\n\u001b[0;32m   1341\u001b[0m   \u001b[38;5;66;03m# Create the validation data using the training data. Only supported for\u001b[39;00m\n\u001b[0;32m   1342\u001b[0m   \u001b[38;5;66;03m# `Tensor` and `NumPy` input.\u001b[39;00m\n\u001b[0;32m   1343\u001b[0m   (x, y, sample_weight), validation_data \u001b[38;5;241m=\u001b[39m (\n\u001b[1;32m-> 1344\u001b[0m       \u001b[43mdata_adapter\u001b[49m\u001b[38;5;241;43m.\u001b[39;49m\u001b[43mtrain_validation_split\u001b[49m\u001b[43m(\u001b[49m\n\u001b[0;32m   1345\u001b[0m \u001b[43m          \u001b[49m\u001b[43m(\u001b[49m\u001b[43mx\u001b[49m\u001b[43m,\u001b[49m\u001b[43m \u001b[49m\u001b[43my\u001b[49m\u001b[43m,\u001b[49m\u001b[43m \u001b[49m\u001b[43msample_weight\u001b[49m\u001b[43m)\u001b[49m\u001b[43m,\u001b[49m\u001b[43m \u001b[49m\u001b[43mvalidation_split\u001b[49m\u001b[38;5;241;43m=\u001b[39;49m\u001b[43mvalidation_split\u001b[49m\u001b[43m)\u001b[49m)\n\u001b[0;32m   1347\u001b[0m \u001b[38;5;28;01mif\u001b[39;00m validation_data:\n\u001b[0;32m   1348\u001b[0m   val_x, val_y, val_sample_weight \u001b[38;5;241m=\u001b[39m (\n\u001b[0;32m   1349\u001b[0m       data_adapter\u001b[38;5;241m.\u001b[39munpack_x_y_sample_weight(validation_data))\n",
      "File \u001b[1;32m~\\AppData\\Local\\Programs\\Python\\Python310\\lib\\site-packages\\keras\\engine\\data_adapter.py:1478\u001b[0m, in \u001b[0;36mtrain_validation_split\u001b[1;34m(arrays, validation_split)\u001b[0m\n\u001b[0;32m   1475\u001b[0m   \u001b[38;5;28;01mreturn\u001b[39;00m \u001b[38;5;28misinstance\u001b[39m(t, tensor_types) \u001b[38;5;129;01mor\u001b[39;00m t \u001b[38;5;129;01mis\u001b[39;00m \u001b[38;5;28;01mNone\u001b[39;00m\n\u001b[0;32m   1477\u001b[0m flat_arrays \u001b[38;5;241m=\u001b[39m tf\u001b[38;5;241m.\u001b[39mnest\u001b[38;5;241m.\u001b[39mflatten(arrays)\n\u001b[1;32m-> 1478\u001b[0m unsplitable \u001b[38;5;241m=\u001b[39m [\u001b[38;5;28mtype\u001b[39m(t) \u001b[38;5;28;01mfor\u001b[39;00m t \u001b[38;5;129;01min\u001b[39;00m flat_arrays \u001b[38;5;28;01mif\u001b[39;00m \u001b[38;5;129;01mnot\u001b[39;00m _can_split(t)]\n\u001b[0;32m   1479\u001b[0m \u001b[38;5;28;01mif\u001b[39;00m unsplitable:\n\u001b[0;32m   1480\u001b[0m   \u001b[38;5;28;01mraise\u001b[39;00m \u001b[38;5;167;01mValueError\u001b[39;00m(\n\u001b[0;32m   1481\u001b[0m       \u001b[38;5;124m\"\u001b[39m\u001b[38;5;124m`validation_split` is only supported for Tensors or NumPy \u001b[39m\u001b[38;5;124m\"\u001b[39m\n\u001b[0;32m   1482\u001b[0m       \u001b[38;5;124m\"\u001b[39m\u001b[38;5;124marrays, found following types in the input: \u001b[39m\u001b[38;5;132;01m{}\u001b[39;00m\u001b[38;5;124m\"\u001b[39m\u001b[38;5;241m.\u001b[39mformat(unsplitable))\n",
      "File \u001b[1;32m~\\AppData\\Local\\Programs\\Python\\Python310\\lib\\site-packages\\keras\\engine\\data_adapter.py:1478\u001b[0m, in \u001b[0;36m<listcomp>\u001b[1;34m(.0)\u001b[0m\n\u001b[0;32m   1475\u001b[0m   \u001b[38;5;28;01mreturn\u001b[39;00m \u001b[38;5;28misinstance\u001b[39m(t, tensor_types) \u001b[38;5;129;01mor\u001b[39;00m t \u001b[38;5;129;01mis\u001b[39;00m \u001b[38;5;28;01mNone\u001b[39;00m\n\u001b[0;32m   1477\u001b[0m flat_arrays \u001b[38;5;241m=\u001b[39m tf\u001b[38;5;241m.\u001b[39mnest\u001b[38;5;241m.\u001b[39mflatten(arrays)\n\u001b[1;32m-> 1478\u001b[0m unsplitable \u001b[38;5;241m=\u001b[39m [\u001b[38;5;28mtype\u001b[39m(t) \u001b[38;5;28;01mfor\u001b[39;00m t \u001b[38;5;129;01min\u001b[39;00m flat_arrays \u001b[38;5;28;01mif\u001b[39;00m \u001b[38;5;129;01mnot\u001b[39;00m \u001b[43m_can_split\u001b[49m\u001b[43m(\u001b[49m\u001b[43mt\u001b[49m\u001b[43m)\u001b[49m]\n\u001b[0;32m   1479\u001b[0m \u001b[38;5;28;01mif\u001b[39;00m unsplitable:\n\u001b[0;32m   1480\u001b[0m   \u001b[38;5;28;01mraise\u001b[39;00m \u001b[38;5;167;01mValueError\u001b[39;00m(\n\u001b[0;32m   1481\u001b[0m       \u001b[38;5;124m\"\u001b[39m\u001b[38;5;124m`validation_split` is only supported for Tensors or NumPy \u001b[39m\u001b[38;5;124m\"\u001b[39m\n\u001b[0;32m   1482\u001b[0m       \u001b[38;5;124m\"\u001b[39m\u001b[38;5;124marrays, found following types in the input: \u001b[39m\u001b[38;5;132;01m{}\u001b[39;00m\u001b[38;5;124m\"\u001b[39m\u001b[38;5;241m.\u001b[39mformat(unsplitable))\n",
      "File \u001b[1;32m~\\AppData\\Local\\Programs\\Python\\Python310\\lib\\site-packages\\keras\\engine\\data_adapter.py:1475\u001b[0m, in \u001b[0;36mtrain_validation_split.<locals>._can_split\u001b[1;34m(t)\u001b[0m\n\u001b[0;32m   1473\u001b[0m \u001b[38;5;28;01mdef\u001b[39;00m \u001b[38;5;21m_can_split\u001b[39m(t):\n\u001b[0;32m   1474\u001b[0m   tensor_types \u001b[38;5;241m=\u001b[39m _get_tensor_types()\n\u001b[1;32m-> 1475\u001b[0m   \u001b[38;5;28;01mreturn\u001b[39;00m \u001b[38;5;28;43misinstance\u001b[39;49m\u001b[43m(\u001b[49m\u001b[43mt\u001b[49m\u001b[43m,\u001b[49m\u001b[43m \u001b[49m\u001b[43mtensor_types\u001b[49m\u001b[43m)\u001b[49m \u001b[38;5;129;01mor\u001b[39;00m t \u001b[38;5;129;01mis\u001b[39;00m \u001b[38;5;28;01mNone\u001b[39;00m\n",
      "\u001b[1;31mKeyboardInterrupt\u001b[0m: "
     ]
    }
   ],
   "source": [
    "x_train, x_test, y_test, y_train=train_test_split(x, y)\n",
    "model.fit(x_train, y_train, validation_split=0.3, epochs=6)"
   ]
  },
  {
   "cell_type": "code",
   "execution_count": null,
   "id": "1acfcd15",
   "metadata": {},
   "outputs": [],
   "source": []
  }
 ],
 "metadata": {
  "kernelspec": {
   "display_name": "Python 3 (ipykernel)",
   "language": "python",
   "name": "python3"
  },
  "language_info": {
   "codemirror_mode": {
    "name": "ipython",
    "version": 3
   },
   "file_extension": ".py",
   "mimetype": "text/x-python",
   "name": "python",
   "nbconvert_exporter": "python",
   "pygments_lexer": "ipython3",
   "version": "3.10.4"
  }
 },
 "nbformat": 4,
 "nbformat_minor": 5
}
